{
 "cells": [
  {
   "cell_type": "code",
   "execution_count": 1,
   "id": "e35013b7",
   "metadata": {},
   "outputs": [
    {
     "name": "stdout",
     "output_type": "stream",
     "text": [
      "enter your number10\n",
      "CORRECT\n"
     ]
    }
   ],
   "source": [
    " # print 'CORRECT' if i == 10\n",
    "\n",
    "i=int(input(\"enter your number\"))\n",
    "\n",
    "if i==10:\n",
    "    print(\"CORRECT\")\n",
    "else:\n",
    "    print(\"NOT CORRECT\")\n"
   ]
  },
  {
   "cell_type": "code",
   "execution_count": 4,
   "id": "245ade88",
   "metadata": {},
   "outputs": [
    {
     "name": "stdout",
     "output_type": "stream",
     "text": [
      "enter your password hereHOPE@123\n",
      "password is correct\n"
     ]
    }
   ],
   "source": [
    "# Check the password, using if and else\n",
    "\n",
    "password=input(\"enter your password here\")\n",
    "if password == \"HOPE@123\":\n",
    "    print(\"password is correct\")\n",
    "else:\n",
    "    print(\"password is not correct\")\n",
    "\n"
   ]
  },
  {
   "cell_type": "code",
   "execution_count": 6,
   "id": "39df3b0d",
   "metadata": {},
   "outputs": [
    {
     "name": "stdout",
     "output_type": "stream",
     "text": [
      "enter your age34\n",
      "adult\n"
     ]
    }
   ],
   "source": [
    "# Catagory the people by their age like children, adult, citizen, senior citizen...\n",
    "age=int(input(\"enter your age\"))\n",
    "if (age<18):\n",
    "    print(\"children\")\n",
    "elif(age<35):\n",
    "    print(\"adult\")\n",
    "elif(age<59):\n",
    "    print(\"citizen\")\n",
    "else:\n",
    "    print(\"Senior citizen\")"
   ]
  },
  {
   "cell_type": "code",
   "execution_count": 7,
   "id": "1afef77c",
   "metadata": {},
   "outputs": [
    {
     "name": "stdout",
     "output_type": "stream",
     "text": [
      "Enter a number: -1\n",
      "Negative number\n"
     ]
    }
   ],
   "source": [
    " # Find whether given number is positive or negative\n",
    "num = int(input(\"Enter a number: \"))\n",
    "if num >= 0:\n",
    "    if num == 0:\n",
    "        print(\"Zero\")\n",
    "    else:\n",
    "        print(\"Positive number\")\n",
    "else:\n",
    "    print(\"Negative number\")\n",
    "\n"
   ]
  },
  {
   "cell_type": "code",
   "execution_count": 10,
   "id": "3ea3e087",
   "metadata": {},
   "outputs": [
    {
     "name": "stdout",
     "output_type": "stream",
     "text": [
      "enter your number: 22\n",
      "the given number 22 is not divisble by 5\n"
     ]
    }
   ],
   "source": [
    " # Check whether the given number is divisible by 5\n",
    "num=int(input(\"enter your number: \"))\n",
    "if num%5==0:\n",
    "    print(\"the given number  \"+str(num)+\" is divisble by 5\")\n",
    "else:\n",
    "    print(\"the given number \"+str(num)+\" is not divisble by 5\")"
   ]
  },
  {
   "cell_type": "code",
   "execution_count": null,
   "id": "074bdf32",
   "metadata": {},
   "outputs": [],
   "source": []
  }
 ],
 "metadata": {
  "kernelspec": {
   "display_name": "Python 3 (ipykernel)",
   "language": "python",
   "name": "python3"
  },
  "language_info": {
   "codemirror_mode": {
    "name": "ipython",
    "version": 3
   },
   "file_extension": ".py",
   "mimetype": "text/x-python",
   "name": "python",
   "nbconvert_exporter": "python",
   "pygments_lexer": "ipython3",
   "version": "3.9.12"
  }
 },
 "nbformat": 4,
 "nbformat_minor": 5
}
